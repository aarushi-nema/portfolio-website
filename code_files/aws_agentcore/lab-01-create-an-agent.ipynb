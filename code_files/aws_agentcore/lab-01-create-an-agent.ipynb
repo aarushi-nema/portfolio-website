{
 "cells": [
  {
   "cell_type": "markdown",
   "metadata": {},
   "source": [
    "## Lab 1: Creating a simple customer support agent prototype\n",
    "\n",
    "### Overview\n",
    "\n",
    "[Amazon Bedrock AgentCore](https://aws.amazon.com/bedrock/agentcore/) helps you deploying and operating AI agents securely at scale - using any framework and model. It provides you with the capability to move from prototype to production faster. \n",
    "\n",
    "In this 5-labs tutorial, we will demonstrate the end-to-end journey from prototype to production using a **Customer Support Agent**. For this example we will use [Strands Agents](https://strandsagents.com/latest/), a simple-to-use, code-first framework for building agents and the Anthropic Claude Sonnet 3.7 model from Amazon Bedrock. For your application you can use the framework and model of your choice. It's important to note that the concepts covered here can be applied using other frameworks and models as well.\n",
    "\n",
    "**Workshop Journey:**\n",
    "- **Lab 1 (Current)**: Create Agent Prototype - Build a functional customer support agent\n",
    "- **Lab 2**: Enhance with Memory - Add conversation context and personalization\n",
    "- **Lab 3**: Scale with Gateway & Identity - Share tools across agents securely\n",
    "- **Lab 4**: Deploy to Production - Use AgentCore Runtime with observability\n",
    "- **Lab 5**: Build User Interface - Create a customer-facing application\n",
    "\n",
    "In this first lab, we'll build a Customer Support Agent prototype that will evolve throughout the workshop into a production-ready system serving multiple customers with persistent memory, shared tools, and full observability. Our agent will have the following local tools available:\n",
    "- **get_return_policy()** - Get return policy for specific products\n",
    "- **get_product_info()** - Get product information\n",
    "- **web_search()** - Search the web for troubleshooting help\n",
    "- **get_technical_support()** - Search a Bedrock Knowledge Base\n",
    "\n",
    "\n",
    "### Architecture for Lab 1\n",
    "<div style=\"text-align:left\">\n",
    "    <img src=\"images/architecture_lab1_strands.png\" width=\"75%\"/>\n",
    "</div>\n",
    "\n",
    "*Simple prototype running locally. In subsequent labs, we'll migrate this to AgentCore services with shared tools, persistent memory, and production-grade observability.*\n",
    "\n",
    "### Prerequisites\n",
    "\n",
    "* **AWS Account** with appropriate permissions\n",
    "* **Python 3.10+** installed locally\n",
    "* **AWS CLI configured** with credentials\n",
    "* **Anthropic Claude 3.7** enabled on [Amazon Bedrock](https://docs.aws.amazon.com/bedrock/latest/userguide/model-access.html)\n",
    "* **Strands Agents** and other libraries installed in the next cells"
   ]
  },
  {
   "cell_type": "markdown",
   "metadata": {},
   "source": [
    "### Step 1: Install Dependencies and Import Libraries\n",
    "Before we start, let's install the pre-requisites for this lab"
   ]
  },
  {
   "cell_type": "code",
   "execution_count": 1,
   "metadata": {
    "execution": {
     "iopub.execute_input": "2025-09-17T11:41:16.291902Z",
     "iopub.status.busy": "2025-09-17T11:41:16.291545Z",
     "iopub.status.idle": "2025-09-17T11:41:20.039009Z",
     "shell.execute_reply": "2025-09-17T11:41:20.038501Z",
     "shell.execute_reply.started": "2025-09-17T11:41:16.291883Z"
    }
   },
   "outputs": [
    {
     "name": "stdout",
     "output_type": "stream",
     "text": [
      "Note: you may need to restart the kernel to use updated packages.\n"
     ]
    }
   ],
   "source": [
    "# Install required packages\n",
    "%pip install -U -r requirements.txt -q"
   ]
  },
  {
   "cell_type": "markdown",
   "metadata": {},
   "source": [
    "We can now import the required libraries and initialize our boto3 session"
   ]
  },
  {
   "cell_type": "code",
   "execution_count": 2,
   "metadata": {
    "execution": {
     "iopub.execute_input": "2025-09-17T11:41:25.405748Z",
     "iopub.status.busy": "2025-09-17T11:41:25.405483Z",
     "iopub.status.idle": "2025-09-17T11:41:25.990783Z",
     "shell.execute_reply": "2025-09-17T11:41:25.990179Z",
     "shell.execute_reply.started": "2025-09-17T11:41:25.405723Z"
    }
   },
   "outputs": [],
   "source": [
    "# Import libraries\n",
    "import boto3\n",
    "from boto3.session import Session\n",
    "\n",
    "from ddgs.exceptions import DDGSException, RatelimitException\n",
    "from ddgs import DDGS\n",
    "\n",
    "from strands.tools import tool\n",
    "from lab_helpers.utils import put_ssm_parameter"
   ]
  },
  {
   "cell_type": "code",
   "execution_count": 3,
   "metadata": {
    "execution": {
     "iopub.execute_input": "2025-09-17T11:42:17.935472Z",
     "iopub.status.busy": "2025-09-17T11:42:17.935112Z",
     "iopub.status.idle": "2025-09-17T11:42:17.945587Z",
     "shell.execute_reply": "2025-09-17T11:42:17.944932Z",
     "shell.execute_reply.started": "2025-09-17T11:42:17.935451Z"
    }
   },
   "outputs": [],
   "source": [
    "# Get boto session\n",
    "boto_session = Session()\n",
    "region = boto_session.region_name"
   ]
  },
  {
   "cell_type": "markdown",
   "metadata": {},
   "source": [
    "### Step 2: Implementing custom tools\n",
    "\n",
    "Next, we will implement the 3 tools which will be provided to the Customer Support Agent.\n",
    "\n",
    "Defining tools in Strands Agent is extremely simple, just add a `@tool` decorator to your function, and provide a description of the tool in the function's docstring. Strands Agents will use the function documentation, typing and arguments to provide context on this tool to your agent. \n"
   ]
  },
  {
   "cell_type": "markdown",
   "metadata": {},
   "source": [
    "#### Tool 1: Get Return Policy\n",
    "\n",
    "**Purpose:** This tool helps customers understand return policies for different product categories. It provides detailed information about return windows, conditions, processes, and refund timelines so customers know exactly what to expect when returning items."
   ]
  },
  {
   "cell_type": "code",
   "execution_count": 4,
   "metadata": {
    "execution": {
     "iopub.execute_input": "2025-09-17T11:43:23.076580Z",
     "iopub.status.busy": "2025-09-17T11:43:23.076318Z",
     "iopub.status.idle": "2025-09-17T11:43:23.117656Z",
     "shell.execute_reply": "2025-09-17T11:43:23.117111Z",
     "shell.execute_reply.started": "2025-09-17T11:43:23.076559Z"
    }
   },
   "outputs": [
    {
     "name": "stdout",
     "output_type": "stream",
     "text": [
      "✅ Return policy tool ready\n"
     ]
    }
   ],
   "source": [
    "# @tool -> for agent to communicate with \n",
    "@tool\n",
    "def get_return_policy(product_category: str) -> str:\n",
    "    \"\"\"\n",
    "    Get return policy information for a specific product category.\n",
    "\n",
    "    Args:\n",
    "        product_category: Electronics category (e.g., 'smartphones', 'laptops', 'accessories')\n",
    "\n",
    "    Returns:\n",
    "        Formatted return policy details including timeframes and conditions\n",
    "    \"\"\"\n",
    "    # Mock return policy database - in real implementation, this would query policy database\n",
    "    return_policies = {\n",
    "        \"smartphones\": {\n",
    "            \"window\": \"30 days\",\n",
    "            \"condition\": \"Original packaging, no physical damage, factory reset required\",\n",
    "            \"process\": \"Online RMA portal or technical support\",\n",
    "            \"refund_time\": \"5-7 business days after inspection\",\n",
    "            \"shipping\": \"Free return shipping, prepaid label provided\",\n",
    "            \"warranty\": \"1-year manufacturer warranty included\"\n",
    "        },\n",
    "         \"laptops\": {\n",
    "            \"window\": \"30 days\", \n",
    "            \"condition\": \"Original packaging, all accessories, no software modifications\",\n",
    "            \"process\": \"Technical support verification required before return\",\n",
    "            \"refund_time\": \"7-10 business days after inspection\",\n",
    "            \"shipping\": \"Free return shipping with original packaging\",\n",
    "            \"warranty\": \"1-year manufacturer warranty, extended options available\"\n",
    "        },\n",
    "        \"accessories\": {\n",
    "            \"window\": \"30 days\",\n",
    "            \"condition\": \"Unopened packaging preferred, all components included\",\n",
    "            \"process\": \"Online return portal\",\n",
    "            \"refund_time\": \"3-5 business days after receipt\",\n",
    "            \"shipping\": \"Customer pays return shipping under $50\",\n",
    "            \"warranty\": \"90-day manufacturer warranty\"\n",
    "        }\n",
    "    }\n",
    "\n",
    "    # Default policy for unlisted categories\n",
    "    default_policy = {\n",
    "        \"window\": \"30 days\",\n",
    "        \"condition\": \"Original condition with all included components\",\n",
    "        \"process\": \"Contact technical support\",\n",
    "        \"refund_time\": \"5-7 business days after inspection\", \n",
    "        \"shipping\": \"Return shipping policies vary\",\n",
    "        \"warranty\": \"Standard manufacturer warranty applies\"\n",
    "    }\n",
    "\n",
    "    policy = return_policies.get(product_category.lower(), default_policy)\n",
    "    return f\"Return Policy - {product_category.title()}:\\n\\n\" \\\n",
    "           f\"• Return window: {policy['window']} from delivery\\n\" \\\n",
    "           f\"• Condition: {policy['condition']}\\n\" \\\n",
    "           f\"• Process: {policy['process']}\\n\" \\\n",
    "           f\"• Refund timeline: {policy['refund_time']}\\n\" \\\n",
    "           f\"• Shipping: {policy['shipping']}\\n\" \\\n",
    "           f\"• Warranty: {policy['warranty']}\"\n",
    "print(\"✅ Return policy tool ready\")"
   ]
  },
  {
   "cell_type": "markdown",
   "metadata": {},
   "source": [
    "#### Tool 2: Get Product Information\n",
    "\n",
    "**Purpose:** This tool provides customers with comprehensive product details including warranties, available models, key features, shipping policies, and return information. It helps customers make informed purchasing decisions and understand what they're buying."
   ]
  },
  {
   "cell_type": "code",
   "execution_count": 5,
   "metadata": {
    "execution": {
     "iopub.execute_input": "2025-09-17T11:43:28.746784Z",
     "iopub.status.busy": "2025-09-17T11:43:28.746516Z",
     "iopub.status.idle": "2025-09-17T11:43:28.754436Z",
     "shell.execute_reply": "2025-09-17T11:43:28.753870Z",
     "shell.execute_reply.started": "2025-09-17T11:43:28.746764Z"
    }
   },
   "outputs": [
    {
     "name": "stdout",
     "output_type": "stream",
     "text": [
      "✅ get_product_info tool ready\n"
     ]
    }
   ],
   "source": [
    "@tool\n",
    "def get_product_info(product_type: str) -> str:\n",
    "    \"\"\"\n",
    "    Get detailed technical specifications and information for electronics products.\n",
    "\n",
    "    Args:\n",
    "        product_type: Electronics product type (e.g., 'laptops', 'smartphones', 'headphones', 'monitors')\n",
    "    Returns:\n",
    "        Formatted product information including warranty, features, and policies\n",
    "    \"\"\"\n",
    "    # Mock product catalog - in real implementation, this would query a product database\n",
    "    products = {\n",
    "        \"laptops\": {\n",
    "            \"warranty\": \"1-year manufacturer warranty + optional extended coverage\",\n",
    "            \"specs\": \"Intel/AMD processors, 8-32GB RAM, SSD storage, various display sizes\",\n",
    "            \"features\": \"Backlit keyboards, USB-C/Thunderbolt, Wi-Fi 6, Bluetooth 5.0\",\n",
    "            \"compatibility\": \"Windows 11, macOS, Linux support varies by model\",\n",
    "            \"support\": \"Technical support and driver updates included\"\n",
    "        },\n",
    "        \"smartphones\": {\n",
    "            \"warranty\": \"1-year manufacturer warranty\",\n",
    "            \"specs\": \"5G/4G connectivity, 128GB-1TB storage, multiple camera systems\",\n",
    "            \"features\": \"Wireless charging, water resistance, biometric security\",\n",
    "            \"compatibility\": \"iOS/Android, carrier unlocked options available\",\n",
    "            \"support\": \"Software updates and technical support included\"\n",
    "        },\n",
    "        \"headphones\": {\n",
    "            \"warranty\": \"1-year manufacturer warranty\",\n",
    "            \"specs\": \"Wired/wireless options, noise cancellation, 20Hz-20kHz frequency\",\n",
    "            \"features\": \"Active noise cancellation, touch controls, voice assistant\",\n",
    "            \"compatibility\": \"Bluetooth 5.0+, 3.5mm jack, USB-C charging\",\n",
    "            \"support\": \"Firmware updates via companion app\"\n",
    "        },\n",
    "        \"monitors\": {\n",
    "            \"warranty\": \"3-year manufacturer warranty\",\n",
    "            \"specs\": \"4K/1440p/1080p resolutions, IPS/OLED panels, various sizes\",\n",
    "            \"features\": \"HDR support, high refresh rates, adjustable stands\",\n",
    "            \"compatibility\": \"HDMI, DisplayPort, USB-C inputs\",\n",
    "            \"support\": \"Color calibration and technical support\"\n",
    "        }\n",
    "    }\n",
    "    product = products.get(product_type.lower())\n",
    "    if not product:\n",
    "        return f\"Technical specifications for {product_type} not available. Please contact our technical support team for detailed product information and compatibility requirements.\"\n",
    "\n",
    "    return f\"Technical Information - {product_type.title()}:\\n\\n\" \\\n",
    "           f\"• Warranty: {product['warranty']}\\n\" \\\n",
    "           f\"• Specifications: {product['specs']}\\n\" \\\n",
    "           f\"• Key Features: {product['features']}\\n\" \\\n",
    "           f\"• Compatibility: {product['compatibility']}\\n\" \\\n",
    "           f\"• Support: {product['support']}\"\n",
    "\n",
    "print(\"✅ get_product_info tool ready\")"
   ]
  },
  {
   "cell_type": "markdown",
   "metadata": {},
   "source": [
    "#### Tool 3: Web-search\n",
    "\n",
    "**Purpose:** This tool allows customers to get troubleshooting support or suggestions on product recommendations etc."
   ]
  },
  {
   "cell_type": "code",
   "execution_count": 6,
   "metadata": {
    "execution": {
     "iopub.execute_input": "2025-09-17T11:44:14.195675Z",
     "iopub.status.busy": "2025-09-17T11:44:14.195413Z",
     "iopub.status.idle": "2025-09-17T11:44:14.202559Z",
     "shell.execute_reply": "2025-09-17T11:44:14.202028Z",
     "shell.execute_reply.started": "2025-09-17T11:44:14.195654Z"
    }
   },
   "outputs": [
    {
     "name": "stdout",
     "output_type": "stream",
     "text": [
      "✅ Web search tool ready\n"
     ]
    }
   ],
   "source": [
    "@tool\n",
    "def web_search(keywords: str, region: str = \"us-en\", max_results: int = 5) -> str:\n",
    "    \"\"\"Search the web for updated information.\n",
    "    \n",
    "    Args:\n",
    "        keywords (str): The search query keywords.\n",
    "        region (str): The search region: wt-wt, us-en, uk-en, ru-ru, etc..\n",
    "        max_results (int | None): The maximum number of results to return.\n",
    "    Returns:\n",
    "        List of dictionaries with search results.\n",
    "    \n",
    "    \"\"\"\n",
    "    try:\n",
    "        results = DDGS().text(keywords, region=region, max_results=max_results)\n",
    "        return results if results else \"No results found.\"\n",
    "    except RatelimitException:\n",
    "        return \"Rate limit reached. Please try again later.\"\n",
    "    except DDGSException as e:\n",
    "        return f\"Search error: {e}\"\n",
    "    except Exception as e:\n",
    "        return f\"Search error: {str(e)}\"\n",
    "\n",
    "print(\"✅ Web search tool ready\")"
   ]
  },
  {
   "cell_type": "markdown",
   "metadata": {},
   "source": [
    "#### Customer Support Agent - Knowledge Base Integration Steps\n",
    "\n",
    "##### Download product technical_support files from S3"
   ]
  },
  {
   "cell_type": "code",
   "execution_count": 7,
   "metadata": {
    "execution": {
     "iopub.execute_input": "2025-09-17T11:45:00.635569Z",
     "iopub.status.busy": "2025-09-17T11:45:00.635286Z",
     "iopub.status.idle": "2025-09-17T11:45:01.083238Z",
     "shell.execute_reply": "2025-09-17T11:45:01.082579Z",
     "shell.execute_reply.started": "2025-09-17T11:45:00.635547Z"
    }
   },
   "outputs": [
    {
     "name": "stdout",
     "output_type": "stream",
     "text": [
      "Downloaded: laptop-maintenance-guide.txt\n",
      "Downloaded: monitor-calibration-guide.txt\n",
      "Downloaded: smartphone-setup-guide.txt\n",
      "Downloaded: troubleshooting-guide.txt\n",
      "Downloaded: warranty-service-guide.txt\n",
      "Downloaded: wireless-connectivity-guide.txt\n",
      "All files saved to: knowledge_base_data/\n"
     ]
    }
   ],
   "source": [
    "# Download and ingest file into BedRock Ecosystem\n",
    "import os\n",
    "\n",
    "def download_files():\n",
    "    # Get account and region\n",
    "    account_id = boto3.client('sts').get_caller_identity()['Account']\n",
    "    region = boto3.Session().region_name\n",
    "    bucket_name = f\"{account_id}-{region}-kb-data-bucket\"\n",
    "    \n",
    "    # Create local folder\n",
    "    os.makedirs(\"knowledge_base_data\", exist_ok=True)\n",
    "    \n",
    "    # Download all files\n",
    "    s3 = boto3.client('s3')\n",
    "    objects = s3.list_objects_v2(Bucket=bucket_name)\n",
    "    \n",
    "    for obj in objects['Contents']:\n",
    "        file_name = obj['Key']\n",
    "        s3.download_file(bucket_name, file_name, f\"knowledge_base_data/{file_name}\")\n",
    "        print(f\"Downloaded: {file_name}\")\n",
    "    \n",
    "    print(f\"All files saved to: knowledge_base_data/\")\n",
    "\n",
    "# Run it\n",
    "download_files()"
   ]
  },
  {
   "cell_type": "markdown",
   "metadata": {},
   "source": [
    "#### Knowledge Base Sync Job\n",
    "\n",
    "##### Sync the knowledge base with product technical_support files from S3 which can be integrated with the agent"
   ]
  },
  {
   "cell_type": "code",
   "execution_count": 8,
   "metadata": {
    "execution": {
     "iopub.execute_input": "2025-09-17T11:45:52.076589Z",
     "iopub.status.busy": "2025-09-17T11:45:52.076322Z",
     "iopub.status.idle": "2025-09-17T11:46:03.495944Z",
     "shell.execute_reply": "2025-09-17T11:46:03.495275Z",
     "shell.execute_reply.started": "2025-09-17T11:45:52.076569Z"
    }
   },
   "outputs": [
    {
     "name": "stdout",
     "output_type": "stream",
     "text": [
      "Bedrock knowledge base sync job started, ingesting the data files from s3\n",
      "Bedrock knowledge base sync job completed Successfully, ingested 6 files\n",
      "Files ingested: laptop-maintenance-guide.txt, monitor-calibration-guide.txt, smartphone-setup-guide.txt, troubleshooting-guide.txt, warranty-service-guide.txt, wireless-connectivity-guide.txt\n"
     ]
    }
   ],
   "source": [
    "import boto3\n",
    "import time\n",
    "\n",
    "# Get parameters\n",
    "ssm = boto3.client('ssm')\n",
    "bedrock = boto3.client('bedrock-agent')\n",
    "s3 = boto3.client('s3')\n",
    "\n",
    "account_id = boto3.client('sts').get_caller_identity()['Account']\n",
    "region = boto3.Session().region_name\n",
    "\n",
    "kb_id = ssm.get_parameter(Name=f\"/{account_id}-{region}/kb/knowledge-base-id\")['Parameter']['Value']\n",
    "ds_id = ssm.get_parameter(Name=f\"/{account_id}-{region}/kb/data-source-id\")['Parameter']['Value']\n",
    "\n",
    "# Get file names from S3 bucket\n",
    "bucket_name = f\"{account_id}-{region}-kb-data-bucket\"\n",
    "s3_objects = s3.list_objects_v2(Bucket=bucket_name)\n",
    "file_names = [obj['Key'] for obj in s3_objects.get('Contents', [])]\n",
    "\n",
    "# Start sync job\n",
    "response = bedrock.start_ingestion_job(\n",
    "    knowledgeBaseId=kb_id,\n",
    "    dataSourceId=ds_id,\n",
    "    description=\"Quick sync\"\n",
    ")\n",
    "\n",
    "job_id = response['ingestionJob']['ingestionJobId']\n",
    "print(\"Bedrock knowledge base sync job started, ingesting the data files from s3\")\n",
    "\n",
    "# Monitor until complete\n",
    "while True:\n",
    "    job = bedrock.get_ingestion_job(\n",
    "        knowledgeBaseId=kb_id,\n",
    "        dataSourceId=ds_id,\n",
    "        ingestionJobId=job_id\n",
    "    )['ingestionJob']\n",
    "    \n",
    "    status = job['status']\n",
    "    \n",
    "    if status in ['COMPLETE', 'FAILED']:\n",
    "        break\n",
    "        \n",
    "    time.sleep(10)\n",
    "\n",
    "# Print final result\n",
    "if status == 'COMPLETE':\n",
    "    file_count = job.get('statistics', {}).get('numberOfDocumentsScanned', 0)\n",
    "    files_list = ', '.join(file_names)\n",
    "    print(f\"Bedrock knowledge base sync job completed Successfully, ingested {file_count} files\")\n",
    "    print(f\"Files ingested: {files_list}\")\n",
    "else:\n",
    "    print(f\"Bedrock knowledge base sync job failed with status: {status}\")"
   ]
  },
  {
   "cell_type": "markdown",
   "metadata": {},
   "source": [
    "#### Tool 4: Get Technical Support\n",
    "\n",
    "**Purpose:**  This tool provides customers with comprehensive technical support and troubleshooting assistance by accessing our knowledge base of electronics documentation. It includes detailed setup guides, maintenance instructions, troubleshooting steps, connectivity solutions, and warranty service information. This tool helps customers resolve technical issues, properly configure their devices, and understand maintenance requirements for optimal product performance."
   ]
  },
  {
   "cell_type": "code",
   "execution_count": 9,
   "metadata": {
    "execution": {
     "iopub.execute_input": "2025-09-17T11:47:37.066688Z",
     "iopub.status.busy": "2025-09-17T11:47:37.066407Z",
     "iopub.status.idle": "2025-09-17T11:47:37.532854Z",
     "shell.execute_reply": "2025-09-17T11:47:37.532278Z",
     "shell.execute_reply.started": "2025-09-17T11:47:37.066666Z"
    }
   },
   "outputs": [
    {
     "name": "stdout",
     "output_type": "stream",
     "text": [
      "✅ Technical support tool ready\n"
     ]
    }
   ],
   "source": [
    "import os\n",
    "from strands.tools.mcp.mcp_client import MCPClient\n",
    "from mcp.client.stdio import stdio_client\n",
    "from mcp.client.stdio import StdioServerParameters\n",
    "from strands.models import BedrockModel\n",
    "from strands import Agent\n",
    "from strands_tools import retrieve\n",
    "\n",
    "@tool\n",
    "def get_technical_support(issue_description: str) -> str:\n",
    "\ttry:\n",
    "\t\t# Get KB ID from parameter store\n",
    "\t\tssm = boto3.client('ssm')\n",
    "\t\taccount_id = boto3.client('sts').get_caller_identity()['Account']\n",
    "\t\tregion = boto3.Session().region_name\n",
    "\n",
    "\t\tkb_id = ssm.get_parameter(Name=f\"/{account_id}-{region}/kb/knowledge-base-id\")['Parameter']['Value']\n",
    "\t\tprint(f\"Successfully retrieved KB ID: {kb_id}\")\n",
    "\n",
    "\t\t# Use strands retrieve tool\n",
    "\t\ttool_use = {\n",
    "\t\t\t\"toolUseId\": \"tech_support_query\",\n",
    "\t\t\t\"input\": {\n",
    "\t\t\t\t\"text\": issue_description,\n",
    "\t\t\t\t\"knowledgeBaseId\": kb_id,\n",
    "\t\t\t\t\"region\": region,\n",
    "\t\t\t\t\"numberOfResults\": 3,\n",
    "\t\t\t\t\"score\": 0.4\n",
    "\t\t\t}\n",
    "\t\t}\n",
    "\n",
    "\t\tresult = retrieve.retrieve(tool_use)\n",
    "\n",
    "\t\tif result[\"status\"] == \"success\":\n",
    "\t\t\treturn result[\"content\"][0][\"text\"]\n",
    "\t\telse:\n",
    "\t\t\treturn f\"Unable to access technical support documentation. Error: {result['content'][0]['text']}\"\n",
    "\n",
    "\texcept Exception as e:\n",
    "\t\tprint(f\"Detailed error in get_technical_support: {str(e)}\")\n",
    "\t\treturn f\"Unable to access technical support documentation. Error: {str(e)}\"\n",
    "\n",
    "print(\"✅ Technical support tool ready\")"
   ]
  },
  {
   "cell_type": "markdown",
   "metadata": {},
   "source": [
    "### Step 4: Create and Configure the Customer Support Agent\n",
    "\n",
    "Next, we will create the Customer Support Agent providing a model, the list of tools implemented in the previous step, and with a system prompt."
   ]
  },
  {
   "cell_type": "code",
   "execution_count": 10,
   "metadata": {
    "execution": {
     "iopub.execute_input": "2025-09-17T11:48:13.254056Z",
     "iopub.status.busy": "2025-09-17T11:48:13.253761Z",
     "iopub.status.idle": "2025-09-17T11:48:13.321947Z",
     "shell.execute_reply": "2025-09-17T11:48:13.321378Z",
     "shell.execute_reply.started": "2025-09-17T11:48:13.254036Z"
    }
   },
   "outputs": [
    {
     "name": "stdout",
     "output_type": "stream",
     "text": [
      "Customer Support Agent created successfully!\n"
     ]
    }
   ],
   "source": [
    "from strands import Agent\n",
    "from strands.models import BedrockModel\n",
    "\n",
    "SYSTEM_PROMPT = \"\"\"You are a helpful and professional customer support assistant for an electronics e-commerce company.\n",
    "Your role is to:\n",
    "- Provide accurate information using the tools available to you\n",
    "- Support the customer with technical information and product specifications, and maintenance questions\n",
    "- Be friendly, patient, and understanding with customers\n",
    "- Always offer additional help after answering questions\n",
    "- If you can't help with something, direct customers to the appropriate contact\n",
    "\n",
    "You have access to the following tools:\n",
    "1. get_return_policy() - For warranty and return policy questions\n",
    "2. get_product_info() - To get information about a specific product\n",
    "3. web_search() - To access current technical documentation, or for updated information. \n",
    "4. get_technical_support() - For troubleshooting issues, setup guides, maintenance tips, and detailed technical assistance\n",
    "For any technical problems, setup questions, or maintenance concerns, always use the get_technical_support() tool as it contains our comprehensive technical documentation and step-by-step guides.\n",
    "\n",
    "Always use the appropriate tool to get accurate, up-to-date information rather than making assumptions about electronic products or specifications.\"\"\"\n",
    "\n",
    "# Initialize the Bedrock model (Anthropic Claude 3.7 Sonnet)\n",
    "model = BedrockModel(\n",
    "    model_id=\"us.anthropic.claude-3-7-sonnet-20250219-v1:0\",\n",
    "    temperature=0.3,\n",
    "    region_name=region\n",
    ")\n",
    "\n",
    "# Create the customer support agent with all tools\n",
    "agent = Agent(\n",
    "    model=model,\n",
    "    tools=[\n",
    "        get_product_info,  # Tool 1: Simple product information lookup\n",
    "        get_return_policy,  # Tool 2: Simple return policy lookup\n",
    "        web_search, # Tool 3: Access the web for updated information\n",
    "        get_technical_support   # Tool 4: Technical support & troubleshooting\n",
    "    ],\n",
    "    system_prompt=SYSTEM_PROMPT,\n",
    ")\n",
    "\n",
    "print(\"Customer Support Agent created successfully!\")"
   ]
  },
  {
   "cell_type": "markdown",
   "metadata": {},
   "source": [
    "### Step 5: Test the Customer Support Agent\n",
    "\n",
    "Let's test our agent with sample queries to ensure all tools work correctly.\n",
    "\n",
    "#### Test Return check"
   ]
  },
  {
   "cell_type": "code",
   "execution_count": 11,
   "metadata": {
    "execution": {
     "iopub.execute_input": "2025-09-17T11:48:22.774311Z",
     "iopub.status.busy": "2025-09-17T11:48:22.774049Z",
     "iopub.status.idle": "2025-09-17T11:48:30.858094Z",
     "shell.execute_reply": "2025-09-17T11:48:30.857497Z",
     "shell.execute_reply.started": "2025-09-17T11:48:22.774290Z"
    }
   },
   "outputs": [
    {
     "name": "stdout",
     "output_type": "stream",
     "text": [
      "I'd be happy to provide you with information about the return policy for your ThinkPad X1 Carbon. Let me look that up for you.\n",
      "Tool #1: get_return_policy\n",
      "Thank you for your patience. Here's the return policy for your ThinkPad X1 Carbon:\n",
      "\n",
      "**Return Policy for Laptops (including ThinkPad X1 Carbon):**\n",
      "- You have a 30-day return window from the date of delivery\n",
      "- The laptop must be returned in its original packaging with all accessories included\n",
      "- No software modifications should be made to the device\n",
      "- Before processing a return, our technical support team will need to verify the condition\n",
      "- Once approved and inspected, refunds are processed within 7-10 business days\n",
      "- Return shipping is free when using the original packaging\n",
      "- Your ThinkPad X1 Carbon comes with a 1-year manufacturer warranty, with options to extend\n",
      "\n",
      "Is there anything specific about the return policy you'd like me to clarify? Or perhaps you're experiencing an issue with your ThinkPad that I could help troubleshoot?"
     ]
    }
   ],
   "source": [
    "response = agent(\"What's the return policy for my thinkpad X1 Carbon?\")"
   ]
  },
  {
   "cell_type": "code",
   "execution_count": 14,
   "metadata": {
    "execution": {
     "iopub.execute_input": "2025-09-17T11:53:56.065702Z",
     "iopub.status.busy": "2025-09-17T11:53:56.065436Z",
     "iopub.status.idle": "2025-09-17T11:54:09.778566Z",
     "shell.execute_reply": "2025-09-17T11:54:09.777976Z",
     "shell.execute_reply.started": "2025-09-17T11:53:56.065684Z"
    }
   },
   "outputs": [
    {
     "name": "stdout",
     "output_type": "stream",
     "text": [
      "I'd be happy to help you troubleshoot your laptop that won't turn on. Let me get some technical support information for you.\n",
      "Tool #6: get_technical_support\n",
      "Successfully retrieved KB ID: LJ150KSVHW\n",
      "Based on the technical support information, here are the steps you should take when your laptop won't turn on:\n",
      "\n",
      "### Initial Power Troubleshooting Steps:\n",
      "\n",
      "1. **Check Power Cable Connections**\n",
      "   - Ensure the power adapter is firmly connected to both your laptop and the wall outlet\n",
      "   - Look for any visible damage to the cable (fraying, bent pins, etc.)\n",
      "   - Check that the connection point on the laptop isn't loose or damaged\n",
      "\n",
      "2. **Verify Power Outlet Functionality**\n",
      "   - Try plugging another device into the same outlet to confirm it's working\n",
      "   - Try a different power outlet to rule out electrical issues\n",
      "   - If using a power strip or surge protector, try bypassing it and plugging directly into the wall\n",
      "\n",
      "3. **Try a Different Power Cable if Available**\n",
      "   - If you have access to another compatible power adapter, see if that resolves the issue\n",
      "   - This can help determine if the problem is with the adapter rather than the laptop\n",
      "\n",
      "4. **Check for Physical Damage**\n",
      "   - Inspect your laptop for any signs of physical damage\n",
      "   - Look for liquid damage indicators if applicable\n",
      "\n",
      "### Additional Troubleshooting Steps:\n",
      "\n",
      "1. **Battery Reset**\n",
      "   - If your laptop has a removable battery, remove it and the power cable\n",
      "   - Hold the power button for 30 seconds to discharge any residual power\n",
      "   - Reconnect the battery and power cable, then try turning it on again\n",
      "\n",
      "2. **Check for Signs of Life**\n",
      "   - Look for any LED indicators that might light up when connected to power\n",
      "   - Listen for fan noise or hard drive spinning\n",
      "   - Check if the caps lock or num lock keys respond with their indicator lights\n",
      "\n",
      "3. **External Display Test**\n",
      "   - Connect your laptop to an external monitor to see if it's just a display issue\n",
      "   - If the external monitor works, your laptop is powering on but has a screen issue\n",
      "\n",
      "If none of these steps resolve the issue, your laptop might have a more serious hardware problem such as a failed motherboard, power supply, or other internal component that would require professional service.\n",
      "\n",
      "Would you like me to provide more details on any of these troubleshooting steps? Or would you like information about our repair services for your laptop?"
     ]
    }
   ],
   "source": [
    "response = agent(\"My laptop won't turn on, what should I check?\")"
   ]
  },
  {
   "cell_type": "markdown",
   "metadata": {},
   "source": [
    "#### Test Troubleshooting"
   ]
  },
  {
   "cell_type": "code",
   "execution_count": 13,
   "metadata": {
    "execution": {
     "iopub.execute_input": "2025-09-17T11:51:28.305702Z",
     "iopub.status.busy": "2025-09-17T11:51:28.305438Z",
     "iopub.status.idle": "2025-09-17T11:51:48.237257Z",
     "shell.execute_reply": "2025-09-17T11:51:48.236673Z",
     "shell.execute_reply.started": "2025-09-17T11:51:28.305681Z"
    }
   },
   "outputs": [
    {
     "name": "stdout",
     "output_type": "stream",
     "text": [
      "I'm sorry to hear about the heating issue with your iPhone 14. Let me help you troubleshoot this problem. First, let me get some technical support information for you.\n",
      "Tool #3: get_technical_support\n",
      "Successfully retrieved KB ID: LJ150KSVHW\n",
      "I see that the technical support information doesn't provide specific guidance for iPhone overheating issues. Let me search for more current information about iPhone 14 heating problems and solutions.\n",
      "Tool #4: web_search\n",
      "Now, let me also check if there's any specific product information about the iPhone 14 that might be relevant to your issue.\n",
      "Tool #5: get_product_info\n",
      "Based on the information I've gathered, here are some solutions to help with your iPhone 14 overheating issue:\n",
      "\n",
      "### Why iPhones Can Overheat:\n",
      "- Resource-intensive apps running in the background\n",
      "- Software bugs in iOS updates\n",
      "- Charging while using demanding applications\n",
      "- Environmental factors (direct sunlight, hot environments)\n",
      "- Hardware issues (rare but possible)\n",
      "\n",
      "### Solutions to Fix iPhone 14 Overheating:\n",
      "\n",
      "1. **Update iOS to the Latest Version**\n",
      "   - Go to Settings > General > Software Update\n",
      "   - Install any available updates as they often include thermal management improvements\n",
      "\n",
      "2. **Check and Close Background Apps**\n",
      "   - Double-click the home button or swipe up from the bottom (depending on your model) to view open apps\n",
      "   - Swipe up on apps to close them, especially resource-intensive ones like games or navigation\n",
      "\n",
      "3. **Manage Battery-Draining Features**\n",
      "   - Reduce screen brightness (Settings > Display & Brightness)\n",
      "   - Turn off unnecessary location services (Settings > Privacy > Location Services)\n",
      "   - Disable Background App Refresh (Settings > General > Background App Refresh)\n",
      "\n",
      "4. **Remove Case Temporarily**\n",
      "   - Some cases can trap heat; try using your iPhone without its case to see if it helps\n",
      "\n",
      "5. **Avoid Direct Sunlight and Hot Environments**\n",
      "   - Keep your iPhone away from heat sources and direct sunlight\n",
      "\n",
      "6. **Check for Problematic Apps**\n",
      "   - Go to Settings > Battery to see which apps use the most power\n",
      "   - Update or delete apps that might be causing excessive heat\n",
      "\n",
      "7. **Reset All Settings**\n",
      "   - Settings > General > Reset > Reset All Settings (this won't delete your data)\n",
      "\n",
      "If you've tried these solutions and your iPhone 14 still overheats excessively, it might indicate a hardware issue. Since you purchased it last month, your device is still under the 1-year manufacturer warranty, and you have options:\n",
      "\n",
      "1. **Contact Apple Support** for further assistance\n",
      "2. **Visit an Apple Store** for a hardware diagnosis\n",
      "3. **Consider returning the device** - Since you mentioned you don't like it and it's only been a month, you might still be within the return window\n",
      "\n",
      "Would you like me to provide more details on any of these solutions? Or would you like information about the return policy for smartphones if you decide you want to return it?"
     ]
    }
   ],
   "source": [
    "response = agent(\"I bought an iphone 14 last month. I don't like it because it heats up. How do I solve it?\")"
   ]
  },
  {
   "cell_type": "markdown",
   "metadata": {},
   "source": [
    "## 🎉 Lab 1 Complete!\n",
    "\n",
    "You've successfully created a functional Customer Support Agent prototype! Here's what you accomplished:\n",
    "\n",
    "- Built an agent with 3 custom tools (return policy, product info, web search)  \n",
    "- Tested multi-tool interactions and web search capabilities  \n",
    "- Established the foundation for our production journey  \n",
    "\n",
    "### Current Limitations (We'll fix these!)\n",
    "- **Single user conversation memory** - local conversation session, multiple customers need multiple sessions.\n",
    "- **Conversation history limited to session** - no long term memory or cross session information is available in the conversation.\n",
    "- **Tools reusability** - tools aren't reusable across different agents  \n",
    "- **Running locally only** - not scalable\n",
    "- **Identity** - No user and/or agent identity or access control\n",
    "- **Observability** - Limited observability into agent behavior\n",
    "- **Existing APIs** - No access to existing enterprise APIs for customer data\n",
    "\n",
    "##### Next Up [Lab 2: Personalize our agent by adding memory →](lab-02-agentcore-memory.ipynb)\n"
   ]
  }
 ],
 "metadata": {
  "kernelspec": {
   "display_name": "Python 3 (ipykernel)",
   "language": "python",
   "name": "python3"
  },
  "language_info": {
   "codemirror_mode": {
    "name": "ipython",
    "version": 3
   },
   "file_extension": ".py",
   "mimetype": "text/x-python",
   "name": "python",
   "nbconvert_exporter": "python",
   "pygments_lexer": "ipython3",
   "version": "3.12.9"
  }
 },
 "nbformat": 4,
 "nbformat_minor": 4
}
