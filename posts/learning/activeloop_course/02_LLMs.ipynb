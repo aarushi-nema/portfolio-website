{
 "cells": [
  {
   "cell_type": "markdown",
   "id": "5612dde2",
   "metadata": {},
   "source": [
    "# Large Language Models and LangChain\n",
    "\n",
    "**Author:** Aarushi Nema  \n",
    "**Date:** 2024  \n",
    "**Tags:** Large Language Models, LLMs, LangChain, Deep Learning, NLP, AI, Machine Learning, Parameters, Token Distribution, Finetuning, Prompting, Neural Networks, Attention Layers  \n",
    "**Categories:** Learning, AI/ML, LLMs, LangChain  \n",
    "**Abstract:** Comprehensive overview of Large Language Models (LLMs) and their integration with LangChain. Covers LLM architecture, token limitations, and practical implementation considerations.\n",
    "\n",
    "## Learning Objectives\n",
    "- Understand what LLMs are and how they work\n",
    "- Learn about LLM architecture and components\n",
    "- Explore token limitations and context size management\n",
    "- Understand the relationship between LLMs and LangChain\n",
    "- Learn about prompting vs finetuning approaches"
   ]
  },
  {
   "cell_type": "markdown",
   "id": "f7ff41b1",
   "metadata": {},
   "source": [
    "LLMs: \n",
    "- learn token distribution and predict the next token\n",
    "- are deep learning models with billions of parameters\n",
    "- excel at NLP tasks\n",
    "- can be used without \"finetuning\" but instead by employing \"prompting\" (prompt -> question with examples of similar problems and solutions)\n",
    "\n",
    "LLM Architecture: multiple layers of a neural networks, feedforward layers, embedding layers, and attention layers. "
   ]
  },
  {
   "cell_type": "markdown",
   "id": "c3c03134",
   "metadata": {},
   "source": [
    "## Maximum number of tokens"
   ]
  },
  {
   "cell_type": "markdown",
   "id": "90d48e91",
   "metadata": {},
   "source": [
    "In LangChain Library, the LLM context size, or the maximum number of tokens the model can process. It is determined by the specific implementation of the LLM. \n",
    "\n",
    "To find the maximum number of tokens for the OpenAI model, refer to the max_tokensCopy attribute. For example, if you’re using the GPT-3Copy model, the maximum number of tokens supported by the model is 2,049. \n",
    "\n",
    "It is important to ensure that the input text does not exceed the maximum number of tokens supported by the model, as this may result in truncation or errors during processing. To handle this, you can split the input text into smaller chunks and process them separately, making sure that each chunk is within the allowed token limit. You can then combine the results as needed."
   ]
  },
  {
   "cell_type": "code",
   "execution_count": null,
   "id": "76f090bf",
   "metadata": {
    "vscode": {
     "languageId": "plaintext"
    }
   },
   "outputs": [],
   "source": []
  }
 ],
 "metadata": {
  "language_info": {
   "name": "python"
  }
 },
 "nbformat": 4,
 "nbformat_minor": 5
}
